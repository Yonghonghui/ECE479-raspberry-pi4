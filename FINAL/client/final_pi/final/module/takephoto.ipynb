{
 "cells": [
  {
   "cell_type": "code",
   "execution_count": 3,
   "metadata": {},
   "outputs": [
    {
     "name": "stdout",
     "output_type": "stream",
     "text": [
      "已保存照片: photo_0.jpg\n",
      "已保存照片: photo_1.jpg\n",
      "已保存照片: photo_2.jpg\n",
      "已保存照片: photo_3.jpg\n",
      "已保存照片: photo_4.jpg\n",
      "已保存照片: photo_0.jpg\n",
      "已保存照片: photo_1.jpg\n",
      "已保存照片: photo_2.jpg\n",
      "已保存照片: photo_3.jpg\n",
      "已保存照片: photo_4.jpg\n"
     ]
    }
   ],
   "source": [
    "import cv2\n",
    "\n",
    "def take_photos(num_photos=5, filename_prefix='photo'):\n",
    "    # 打开摄像头\n",
    "    cap = cv2.VideoCapture(0)\n",
    "\n",
    "    # 检查摄像头是否打开成功\n",
    "    if not cap.isOpened():\n",
    "        print(\"无法打开摄像头\")\n",
    "        return\n",
    "\n",
    "    # 创建窗口用于显示摄像头捕获的实时图像\n",
    "    cv2.namedWindow('Camera')\n",
    "\n",
    "    # 拍摄多张照片\n",
    "    for i in range(num_photos):\n",
    "        # 读取一帧图像\n",
    "        ret, frame = cap.read()\n",
    "\n",
    "        # 检查图像是否读取成功\n",
    "        if not ret:\n",
    "            print(\"无法读取图像\")\n",
    "            break\n",
    "\n",
    "        # 显示实时图像\n",
    "        cv2.imshow('Camera', frame)\n",
    "\n",
    "        # 构造文件名\n",
    "        filename = f\"{filename_prefix}_{i}.jpg\"\n",
    "\n",
    "        # 保存图像\n",
    "        cv2.imwrite(filename, frame)\n",
    "        print(f\"已保存照片: {filename}\")\n",
    "\n",
    "        # 等待一段时间，以便拍摄下一张照片\n",
    "        cv2.waitKey(1000)\n",
    "\n",
    "    # 关闭摄像头和窗口\n",
    "    cap.release()\n",
    "    cv2.destroyAllWindows()\n",
    "\n",
    "if __name__ == \"__main__\":\n",
    "    take_photos()\n",
    "take_photos()"
   ]
  },
  {
   "cell_type": "code",
   "execution_count": 2,
   "metadata": {},
   "outputs": [
    {
     "name": "stdout",
     "output_type": "stream",
     "text": [
      "dataset/haoyu/image_0.jpg written!\n",
      "dataset/haoyu/image_1.jpg written!\n",
      "dataset/haoyu/image_2.jpg written!\n",
      "dataset/haoyu/image_3.jpg written!\n",
      "dataset/haoyu/image_4.jpg written!\n",
      "dataset/haoyu/image_5.jpg written!\n",
      "dataset/haoyu/image_6.jpg written!\n",
      "dataset/haoyu/image_7.jpg written!\n",
      "dataset/haoyu/image_8.jpg written!\n",
      "dataset/haoyu/image_9.jpg written!\n",
      "dataset/haoyu/image_10.jpg written!\n",
      "dataset/haoyu/image_11.jpg written!\n",
      "dataset/haoyu/image_12.jpg written!\n"
     ]
    }
   ],
   "source": [
    "import cv2\n",
    "\n",
    "name = 'haoyu' #replace with your name\n",
    "\n",
    "cam = cv2.VideoCapture(0)\n",
    "\n",
    "cv2.namedWindow(\"press space to take a photo\", cv2.WINDOW_NORMAL)\n",
    "cv2.resizeWindow(\"press space to take a photo\", 500, 300)\n",
    "\n",
    "img_counter = 0\n",
    "\n",
    "while img_counter <= 12:\n",
    "    ret, frame = cam.read()\n",
    "    if not ret:\n",
    "        print(\"failed to grab frame\")\n",
    "        break\n",
    "    cv2.imshow(\"press space to take a photo\", frame)\n",
    "\n",
    "    k = cv2.waitKey(1)\n",
    "    if k%256 == 27:\n",
    "        # ESC pressed\n",
    "        print(\"Escape hit, closing...\")\n",
    "        break\n",
    "    elif k%256 == 32:\n",
    "        # SPACE pressed\n",
    "        img_name = \"dataset/\"+ name +\"/image_{}.jpg\".format(img_counter)\n",
    "        cv2.imwrite(img_name, frame)\n",
    "        print(\"{} written!\".format(img_name))\n",
    "        img_counter += 1\n",
    "\n",
    "cam.release()\n",
    "\n",
    "cv2.destroyAllWindows()\n"
   ]
  },
  {
   "cell_type": "code",
   "execution_count": 3,
   "metadata": {},
   "outputs": [
    {
     "name": "stdout",
     "output_type": "stream",
     "text": [
      "Note: you may need to restart the kernel to use updated packages.\n"
     ]
    },
    {
     "name": "stderr",
     "output_type": "stream",
     "text": [
      "ERROR: dlib-19.7.0-cp36-cp36m-win_amd64.whl is not a supported wheel on this platform.\n"
     ]
    }
   ],
   "source": [
    "pip install https://pypi.python.org/packages/da/06/bd3e241c4eb0a662914b3b4875fc52dd176a9db0d4a2c915ac2ad8800e9e/dlib-19.7.0-cp36-cp36m-win_amd64.whl#md5=b7330a5b2d46420343fbed5df69e6a3f"
   ]
  },
  {
   "cell_type": "code",
   "execution_count": null,
   "metadata": {},
   "outputs": [],
   "source": [
    "#! /usr/bin/python\n",
    "\n",
    "# import the necessary packages\n",
    "from imutils import paths\n",
    "import face_recognition\n",
    "#import argparse\n",
    "import pickle\n",
    "import cv2\n",
    "import os\n",
    "\n",
    "# our images are located in the dataset folder\n",
    "print(\"[INFO] start processing faces...\")\n",
    "imagePaths = list(paths.list_images(\"dataset\"))\n",
    "\n",
    "# initialize the list of known encodings and known names\n",
    "knownEncodings = []\n",
    "knownNames = []\n",
    "\n",
    "# loop over the image paths\n",
    "for (i, imagePath) in enumerate(imagePaths):\n",
    "\t# extract the person name from the image path\n",
    "\tprint(\"[INFO] processing image {}/{}\".format(i + 1,\n",
    "\t\tlen(imagePaths)))\n",
    "\tname = imagePath.split(os.path.sep)[-2]\n",
    "\n",
    "\t# load the input image and convert it from RGB (OpenCV ordering)\n",
    "\t# to dlib ordering (RGB)\n",
    "\timage = cv2.imread(imagePath)\n",
    "\trgb = cv2.cvtColor(image, cv2.COLOR_BGR2RGB)\n",
    "\n",
    "\t# detect the (x, y)-coordinates of the bounding boxes\n",
    "\t# corresponding to each face in the input image\n",
    "\tboxes = face_recognition.face_locations(rgb,\n",
    "\t\tmodel=\"hog\")\n",
    "\n",
    "\t# compute the facial embedding for the face\n",
    "\tencodings = face_recognition.face_encodings(rgb, boxes)\n",
    "\n",
    "\t# loop over the encodings\n",
    "\tfor encoding in encodings:\n",
    "\t\t# add each encoding + name to our set of known names and\n",
    "\t\t# encodings\n",
    "\t\tknownEncodings.append(encoding)\n",
    "\t\tknownNames.append(name)\n",
    "\n",
    "# dump the facial encodings + names to disk\n",
    "print(\"[INFO] serializing encodings...\")\n",
    "data = {\"encodings\": knownEncodings, \"names\": knownNames}\n",
    "f = open(\"encodings.pickle\", \"wb\")\n",
    "f.write(pickle.dumps(data))\n",
    "f.close()\n"
   ]
  }
 ],
 "metadata": {
  "kernelspec": {
   "display_name": "Python 3",
   "language": "python",
   "name": "python3"
  },
  "language_info": {
   "codemirror_mode": {
    "name": "ipython",
    "version": 3
   },
   "file_extension": ".py",
   "mimetype": "text/x-python",
   "name": "python",
   "nbconvert_exporter": "python",
   "pygments_lexer": "ipython3",
   "version": "3.7.16"
  }
 },
 "nbformat": 4,
 "nbformat_minor": 2
}
